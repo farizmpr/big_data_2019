{
 "cells": [
  {
   "cell_type": "code",
   "execution_count": 13,
   "metadata": {},
   "outputs": [],
   "source": [
    "# Import findspark to read SPARK_HOME and HADOOP_HOME\n",
    "import findspark\n",
    "findspark.init()"
   ]
  },
  {
   "cell_type": "code",
   "execution_count": 14,
   "metadata": {},
   "outputs": [],
   "source": [
    "# Import required library\n",
    "from pyspark.sql import SparkSession\n",
    "\n",
    "# Create Spark Session\n",
    "spark = SparkSession \\\n",
    "    .builder \\\n",
    "    .appName(\"Python Spark SQL basic example\") \\\n",
    "    .getOrCreate()"
   ]
  },
  {
   "cell_type": "code",
   "execution_count": 15,
   "metadata": {},
   "outputs": [
    {
     "name": "stdout",
     "output_type": "stream",
     "text": [
      "<pyspark.sql.session.SparkSession object at 0x7f9a948eea90>\n"
     ]
    }
   ],
   "source": [
    "# Print Spark object ID\n",
    "print(spark)"
   ]
  },
  {
   "cell_type": "code",
   "execution_count": 16,
   "metadata": {},
   "outputs": [],
   "source": [
    "# Datasets can be downloaded from https://catalog.data.gov/dataset/crimes-2001-to-present-398a4\n",
    "\n",
    "df3 = spark.read.csv(\"epa_co_daily_summary.csv\", header=True, inferSchema=True)"
   ]
  },
  {
   "cell_type": "code",
   "execution_count": 17,
   "metadata": {},
   "outputs": [
    {
     "data": {
      "text/plain": [
       "8064820"
      ]
     },
     "execution_count": 17,
     "metadata": {},
     "output_type": "execute_result"
    }
   ],
   "source": [
    "df3.count()"
   ]
  },
  {
   "cell_type": "code",
   "execution_count": 18,
   "metadata": {},
   "outputs": [
    {
     "name": "stdout",
     "output_type": "stream",
     "text": [
      "+----------+-----------+--------+--------------+---+---------+-----------+-------+---------------+--------------------+------------------+-------------------+-----------------+----------+-----------------+-------------------+---------------+---------------+--------------+----+-----------+--------------------+--------------------+--------------------+--------------+--------------+----------------+--------------------+-------------------+\n",
      "|state_code|county_code|site_num|parameter_code|poc| latitude|  longitude|  datum| parameter_name|     sample_duration|pollutant_standard|         date_local| units_of_measure|event_type|observation_count|observation_percent|arithmetic_mean|first_max_value|first_max_hour| aqi|method_code|         method_name|     local_site_name|             address|    state_name|   county_name|       city_name|           cbsa_name|date_of_last_change|\n",
      "+----------+-----------+--------+--------------+---+---------+-----------+-------+---------------+--------------------+------------------+-------------------+-----------------+----------+-----------------+-------------------+---------------+---------------+--------------+----+-----------+--------------------+--------------------+--------------------+--------------+--------------+----------------+--------------------+-------------------+\n",
      "|         6|         73|       5|         42101|  1| 33.20265|-117.365925|  NAD27|Carbon monoxide|              1 HOUR|    CO 1-hour 1971|1994-02-01 00:00:00|Parts per million|      None|               24|              100.0|       1.129167|            1.9|             8|null|         66|INSTRUMENTAL - NO...|Oceanside-Mission...|1701 MISSION AVE....|    California|     San Diego|       Oceanside|San Diego-Carlsba...|2016-04-27 00:00:00|\n",
      "|        39|        113|      28|         42101|  1|39.787222| -84.226111|  NAD83|Carbon monoxide|              1 HOUR|    CO 1-hour 1971|1996-04-29 00:00:00|Parts per million|      None|               24|              100.0|       0.533333|            1.2|            17|null|         67|INSTRUMENTAL - NO...|                FROC|901 WEST FAIRVIEW...|          Ohio|    Montgomery|          Dayton|           Dayton OH|2016-04-26 00:00:00|\n",
      "|        30|         31|      16|         42101|  1|44.661393|-111.105891|  WGS84|Carbon monoxide|              1 HOUR|    CO 1-hour 1971|2010-05-06 00:00:00|Parts per million|      None|               23|               96.0|       0.156522|            0.3|            22|null|         93|INSTRUMENTAL - GA...|West Yellowstone ...|               ALLEY|       Montana|      Gallatin|West Yellowstone|          Bozeman MT|2016-04-10 00:00:00|\n",
      "|        51|         13|      20|         42101|  1|  38.8577|  -77.05922|  WGS84|Carbon monoxide|              1 HOUR|    CO 1-hour 1971|2005-05-05 00:00:00|Parts per million|      None|               24|              100.0|         0.2875|            0.8|             5|null|         67|INSTRUMENTAL - NO...|Aurora Hills Visi...| S 18TH AND HAYES ST|      Virginia|     Arlington|       Arlington|Washington-Arling...|2016-04-21 00:00:00|\n",
      "|         6|         65|    8001|         42101|  1| 33.99958| -117.41601|  WGS84|Carbon monoxide|              1 HOUR|    CO 1-hour 1971|2005-06-19 00:00:00|Parts per million|      None|               23|               96.0|       0.321739|            0.6|             5|null|         67|INSTRUMENTAL - NO...|            Rubidoux|5888 MISSION BLVD...|    California|     Riverside|        Rubidoux|Riverside-San Ber...|2016-04-21 00:00:00|\n",
      "|        32|         31|    1005|         42101|  1|39.540917|-119.746761|  WGS84|Carbon monoxide|              1 HOUR|    CO 1-hour 1971|2012-09-29 00:00:00|Parts per million|      None|               24|              100.0|       0.383333|            0.8|             6|null|         93|INSTRUMENTAL - GA...|              Sparks|750 4TH ST SPARKS...|        Nevada|        Washoe|          Sparks|             Reno NV|2016-04-09 00:00:00|\n",
      "|        34|         39|       3|         42101|  1|40.662389| -74.214817|  WGS84|Carbon monoxide|8-HR RUN AVG END ...|    CO 8-hour 1971|2016-06-06 00:00:00|Parts per million|      None|               24|              100.0|          0.375|            0.4|             0|   5|       null|                   -|           Elizabeth|      7 Broad Street|    New Jersey|         Union|       Elizabeth|New York-Newark-J...|2017-03-17 00:00:00|\n",
      "|        23|          3|    1100|         42101|  1|46.696431| -68.033006|  NAD83|Carbon monoxide|8-HR RUN AVG END ...|    CO 8-hour 1971|2010-09-03 00:00:00|Parts per million|      None|               24|              100.0|         0.1875|            0.2|             0|   2|       null|                   -|MICMAC HEALTH DEP...|8 NORTHERN ROAD P...|         Maine|     Aroostook|    Presque Isle|                null|2011-02-01 00:00:00|\n",
      "|        48|        439|    3011|         42101|  1|32.656357| -97.088585|  NAD83|Carbon monoxide|8-HR RUN AVG END ...|    CO 8-hour 1971|2009-07-16 00:00:00|Parts per million|      None|               24|              100.0|            0.2|            0.2|             0|   2|       null|                   -|Arlington Municip...|5504 South Collin...|         Texas|       Tarrant|       Arlington|Dallas-Fort Worth...|2016-04-11 00:00:00|\n",
      "|         9|          3|      17|         42101|  1|41.769167| -72.670278|  WGS84|Carbon monoxide|8-HR RUN AVG END ...|    CO 8-hour 1971|2008-07-20 00:00:00|Parts per million|      None|               24|              100.0|       1.008333|            1.3|             0|  15|       null|                   -|                null|COURTHOUSE 155 MO...|   Connecticut|      Hartford|        Hartford|Hartford-West Har...|2016-04-11 00:00:00|\n",
      "|        30|        111|      82|         42101|  1|45.783889|   -108.515|  NAD27|Carbon monoxide|              1 HOUR|    CO 1-hour 1971|1999-09-16 00:00:00|Parts per million|      None|               24|              100.0|         1.2875|            3.2|            20|null|         93|INSTRUMENTAL - GA...|BLGS BRIDAL SHOP ...|BLGS BRIDAL SHOP ...|       Montana|   Yellowstone|        Billings|         Billings MT|2016-04-19 00:00:00|\n",
      "|        36|          5|     133|         42101|  1|  40.8679|  -73.87809|  WGS84|Carbon monoxide|8-HR RUN AVG END ...|    CO 8-hour 1971|2016-06-15 00:00:00|Parts per million|      None|               24|              100.0|       0.258333|            0.3|             6|   3|       null|                   -|     PFIZER LAB SITE|200TH STREET AND ...|      New York|         Bronx|        New York|New York-Newark-J...|2017-02-10 00:00:00|\n",
      "|        37|         67|      25|         42101|  1|36.097222| -80.276944|UNKNOWN|Carbon monoxide|8-HR RUN AVG END ...|    CO 8-hour 1971|1993-03-17 00:00:00|Parts per million|      None|               18|               75.0|       1.222222|            1.9|             0|  22|       null|                   -|                null| 100 SW STRATFORD RD|North Carolina|       Forsyth|   Winston-Salem|    Winston-Salem NC|2016-04-21 00:00:00|\n",
      "|        26|        163|      62|         42101|  1|42.340833|   -83.0625|UNKNOWN|Carbon monoxide|              1 HOUR|    CO 1-hour 1971|1996-04-06 00:00:00|Parts per million|      None|               24|              100.0|       0.391667|            0.6|             0|null|         51|INSTRUMENTAL - NO...|                null|640 TEMPLE 2ND FLOOR|      Michigan|         Wayne|         Detroit|Detroit-Warren-De...|2016-04-25 00:00:00|\n",
      "|        42|        101|       4|         42101|  1|40.008889|  -75.09778|  NAD83|Carbon monoxide|              1 HOUR|    CO 1-hour 1971|1990-10-27 00:00:00|Parts per million|      None|               23|               96.0|       0.869565|            2.0|            18|null|         11|INSTRUMENTAL - NO...|Air Management Se...|1501 E. LYCOMING ...|  Pennsylvania|  Philadelphia|    Philadelphia|Philadelphia-Camd...|2016-04-30 00:00:00|\n",
      "|         6|         71|       1|         42101|  1|34.895007|-117.024484|  NAD83|Carbon monoxide|              1 HOUR|    CO 1-hour 1971|1997-04-28 00:00:00|Parts per million|      None|               23|               96.0|       0.113043|            0.3|             6|null|         93|INSTRUMENTAL - GA...|             Barstow|200 E. BUENA VIST...|    California|San Bernardino|         Barstow|Riverside-San Ber...|2016-04-16 00:00:00|\n",
      "|         9|          9|      25|         42101|  1|41.309167| -72.923333|  WGS84|Carbon monoxide|              1 HOUR|    CO 1-hour 1971|1999-03-01 00:00:00|Parts per million|      None|               23|               96.0|       0.830435|            1.2|            16|null|         54|INSTRUMENTAL - NO...|           NEW HAVEN|      121 ELM STREET|   Connecticut|     New Haven|       New Haven|New Haven-Milford CT|2016-04-21 00:00:00|\n",
      "|         6|          9|       1|         42101|  1|38.201852|-120.681567|  NAD83|Carbon monoxide|8-HR RUN AVG END ...|    CO 8-hour 1971|2005-05-06 00:00:00|Parts per million|      None|               24|              100.0|       0.145833|            0.2|             0|   2|       null|                   -|San Andreas-Gold ...|501 GOLD STRIKE R...|    California|     Calaveras|     San Andreas|                null|2016-04-20 00:00:00|\n",
      "|        51|         59|    1004|         42101|  1|38.868056| -77.143056|  NAD27|Carbon monoxide|              1 HOUR|    CO 1-hour 1971|1994-12-20 00:00:00|Parts per million|      None|               24|              100.0|       0.770833|            1.7|            20|null|         11|INSTRUMENTAL - NO...|                null|6100 ARLINGTON BL...|      Virginia|       Fairfax|   Seven Corners|Washington-Arling...|2016-04-27 00:00:00|\n",
      "|         1|         73|      28|         42101|  1|33.529444| -86.850278|  WGS84|Carbon monoxide|8-HR RUN AVG END ...|    CO 8-hour 1971|2000-08-08 00:00:00|Parts per million|      None|               24|              100.0|         0.9875|            1.2|            12|  14|       null|                   -|                null|EAST THOMAS FINLE...|       Alabama|     Jefferson|      Birmingham|Birmingham-Hoover AL|2016-04-15 00:00:00|\n",
      "+----------+-----------+--------+--------------+---+---------+-----------+-------+---------------+--------------------+------------------+-------------------+-----------------+----------+-----------------+-------------------+---------------+---------------+--------------+----+-----------+--------------------+--------------------+--------------------+--------------+--------------+----------------+--------------------+-------------------+\n",
      "only showing top 20 rows\n",
      "\n"
     ]
    }
   ],
   "source": [
    "df3.show()"
   ]
  },
  {
   "cell_type": "code",
   "execution_count": 19,
   "metadata": {},
   "outputs": [
    {
     "data": {
      "text/plain": [
       "StructType(List(StructField(state_code,IntegerType,true),StructField(county_code,IntegerType,true),StructField(site_num,IntegerType,true),StructField(parameter_code,IntegerType,true),StructField(poc,IntegerType,true),StructField(latitude,DoubleType,true),StructField(longitude,DoubleType,true),StructField(datum,StringType,true),StructField(parameter_name,StringType,true),StructField(sample_duration,StringType,true),StructField(pollutant_standard,StringType,true),StructField(date_local,TimestampType,true),StructField(units_of_measure,StringType,true),StructField(event_type,StringType,true),StructField(observation_count,IntegerType,true),StructField(observation_percent,DoubleType,true),StructField(arithmetic_mean,DoubleType,true),StructField(first_max_value,DoubleType,true),StructField(first_max_hour,IntegerType,true),StructField(aqi,IntegerType,true),StructField(method_code,IntegerType,true),StructField(method_name,StringType,true),StructField(local_site_name,StringType,true),StructField(address,StringType,true),StructField(state_name,StringType,true),StructField(county_name,StringType,true),StructField(city_name,StringType,true),StructField(cbsa_name,StringType,true),StructField(date_of_last_change,TimestampType,true)))"
      ]
     },
     "execution_count": 19,
     "metadata": {},
     "output_type": "execute_result"
    }
   ],
   "source": [
    "df3.schema"
   ]
  },
  {
   "cell_type": "code",
   "execution_count": 22,
   "metadata": {},
   "outputs": [],
   "source": [
    "# Register the DataFrame as a SQL temporary view\n",
    "df3.createOrReplaceTempView(\"carbon\")"
   ]
  },
  {
   "cell_type": "code",
   "execution_count": 137,
   "metadata": {},
   "outputs": [],
   "source": [
    "result = spark.sql(\"SELECT DISTINCT sample_duration FROM carbon\")"
   ]
  },
  {
   "cell_type": "code",
   "execution_count": 138,
   "metadata": {},
   "outputs": [
    {
     "name": "stdout",
     "output_type": "stream",
     "text": [
      "+--------------------+\n",
      "|     sample_duration|\n",
      "+--------------------+\n",
      "|              1 HOUR|\n",
      "|8-HR RUN AVG END ...|\n",
      "+--------------------+\n",
      "\n"
     ]
    }
   ],
   "source": [
    "result.show()"
   ]
  },
  {
   "cell_type": "code",
   "execution_count": 144,
   "metadata": {},
   "outputs": [],
   "source": [
    "#jumlah banyaknya kejadian/update an carbon monoxide pada setiap kota, yang dihitung berdasarkan tanggal kejadian\n",
    "#format tanggal yyyy/mm/dd\n",
    "\n",
    "scene = spark.sql(\"SELECT city_name ,TO_DATE(`date_local`,'YYYY/MM/DD') AS date, COUNT(`date_local`) \\\n",
    "                    FROM carbon \\\n",
    "                    GROUP BY `date_local`,city_name \\\n",
    "                    ORDER BY `date_local` DESC\")\n"
   ]
  },
  {
   "cell_type": "code",
   "execution_count": 145,
   "metadata": {},
   "outputs": [
    {
     "name": "stdout",
     "output_type": "stream",
     "text": [
      "+--------------------+----------+-----------------+\n",
      "|           city_name|      date|count(date_local)|\n",
      "+--------------------+----------+-----------------+\n",
      "|        Cedar Rapids|2017-05-01|                1|\n",
      "|          Des Moines|2017-05-01|                1|\n",
      "|        Indianapolis|2017-05-01|                1|\n",
      "|               Ogden|2017-05-01|                1|\n",
      "|           New Paris|2017-05-01|                1|\n",
      "|       Oklahoma City|2017-05-01|                2|\n",
      "|              Dayton|2017-05-01|                1|\n",
      "|            Portland|2017-05-01|                1|\n",
      "|           Davenport|2017-05-01|                1|\n",
      "|         Baton Rouge|2017-05-01|                1|\n",
      "|  Dentsville (Dents)|2017-05-01|                1|\n",
      "|           Charlotte|2017-05-01|                2|\n",
      "|      Salt Lake City|2017-05-01|                1|\n",
      "|         New Orleans|2017-05-01|                1|\n",
      "|          Birmingham|2017-05-01|                2|\n",
      "|               Provo|2017-05-01|                1|\n",
      "|          Wilmington|2017-05-01|                1|\n",
      "|               Tulsa|2017-05-01|                1|\n",
      "|       Not in a city|2017-05-01|                2|\n",
      "|Indianapolis (Rem...|2017-05-01|                2|\n",
      "+--------------------+----------+-----------------+\n",
      "only showing top 20 rows\n",
      "\n"
     ]
    }
   ],
   "source": [
    "scene.show()"
   ]
  },
  {
   "cell_type": "code",
   "execution_count": 153,
   "metadata": {},
   "outputs": [],
   "source": [
    "#menampilkan kota yang memiliki good air quality \n",
    "#good air quality memiliki rentang antara 0 dan 50\n",
    "\n",
    "quality = spark.sql(\"SELECT city_name, aqi\\\n",
    "            FROM carbon WHERE aqi between 0 and 50 \\\n",
    "            ORDER BY aqi DESC\")"
   ]
  },
  {
   "cell_type": "code",
   "execution_count": 154,
   "metadata": {},
   "outputs": [
    {
     "name": "stdout",
     "output_type": "stream",
     "text": [
      "+--------------------+---+\n",
      "|           city_name|aqi|\n",
      "+--------------------+---+\n",
      "|             Phoenix| 50|\n",
      "|             Norfolk| 50|\n",
      "|              Denver| 50|\n",
      "|            San Juan| 50|\n",
      "|            Portland| 50|\n",
      "|              Nashua| 50|\n",
      "|          Birmingham| 50|\n",
      "|             Spokane| 50|\n",
      "|         New Orleans| 50|\n",
      "|            San Jose| 50|\n",
      "|              Pomona| 50|\n",
      "|              Denver| 50|\n",
      "|               Chico| 50|\n",
      "|        Redwood City| 50|\n",
      "|               Salem| 50|\n",
      "|Boise (corporate ...| 50|\n",
      "|             Phoenix| 50|\n",
      "|           Las Vegas| 50|\n",
      "|             Spokane| 50|\n",
      "|            Mexicali| 50|\n",
      "+--------------------+---+\n",
      "only showing top 20 rows\n",
      "\n"
     ]
    }
   ],
   "source": [
    "quality.show()"
   ]
  },
  {
   "cell_type": "code",
   "execution_count": 180,
   "metadata": {},
   "outputs": [],
   "source": [
    "#kota yang terakhir meng update data carbon monoxide di kotanya\n",
    "\n",
    "\n",
    "update = spark.sql(\"SELECT city_name ,date_of_last_change \\\n",
    "                FROM carbon \\\n",
    "                order by TO_DATE(`date_local`,'YYYY/MM/DD') DESC limit 1\")"
   ]
  },
  {
   "cell_type": "code",
   "execution_count": 181,
   "metadata": {},
   "outputs": [
    {
     "name": "stdout",
     "output_type": "stream",
     "text": [
      "+---------+-------------------+\n",
      "|city_name|date_of_last_change|\n",
      "+---------+-------------------+\n",
      "|    Provo|2017-05-03 00:00:00|\n",
      "+---------+-------------------+\n",
      "\n"
     ]
    }
   ],
   "source": [
    "update.show()"
   ]
  },
  {
   "cell_type": "code",
   "execution_count": null,
   "metadata": {},
   "outputs": [],
   "source": []
  },
  {
   "cell_type": "code",
   "execution_count": null,
   "metadata": {},
   "outputs": [],
   "source": []
  }
 ],
 "metadata": {
  "kernelspec": {
   "display_name": "Python 2",
   "language": "python",
   "name": "python2"
  },
  "language_info": {
   "codemirror_mode": {
    "name": "ipython",
    "version": 2
   },
   "file_extension": ".py",
   "mimetype": "text/x-python",
   "name": "python",
   "nbconvert_exporter": "python",
   "pygments_lexer": "ipython2",
   "version": "2.7.15"
  }
 },
 "nbformat": 4,
 "nbformat_minor": 2
}
